{
  "nbformat": 4,
  "nbformat_minor": 0,
  "metadata": {
    "colab": {
      "name": "NoteRecognition.ipynb",
      "provenance": [],
      "collapsed_sections": [],
      "mount_file_id": "14722bpkp0fPtELe3UM838AesCnLmsL_3",
      "authorship_tag": "ABX9TyO/SnsrDdeFkFDjundyX/uK",
      "include_colab_link": true
    },
    "kernelspec": {
      "name": "python3",
      "display_name": "Python 3"
    },
    "language_info": {
      "name": "python"
    }
  },
  "cells": [
    {
      "cell_type": "markdown",
      "metadata": {
        "id": "view-in-github",
        "colab_type": "text"
      },
      "source": [
        "<a href=\"https://colab.research.google.com/github/RihaChri/NoteRecognition/blob/main/NoteRecognition.ipynb\" target=\"_parent\"><img src=\"https://colab.research.google.com/assets/colab-badge.svg\" alt=\"Open In Colab\"/></a>"
      ]
    },
    {
      "cell_type": "code",
      "execution_count": 1,
      "metadata": {
        "colab": {
          "base_uri": "https://localhost:8080/"
        },
        "id": "-EXBgp6U0BW2",
        "outputId": "bda4e87d-09c9-4fff-aeea-9f7faeb244fb"
      },
      "outputs": [
        {
          "output_type": "stream",
          "name": "stdout",
          "text": [
            "['D6', 'C8', 'B8', 'G8', 'G7', 'C6', 'C6', 'C6', 'A7', 'D6', 'C6', 'C8', 'F8', 'A7', 'A8']\n"
          ]
        }
      ],
      "source": [
        "import numpy as np\n",
        "import wave\n",
        "import struct\n",
        "\n",
        "sampling_freq = 44100\t              #Sampling frequency of audio signal\n",
        "\n",
        "def freqToNote(freq) :                #convert freq to note\n",
        "    \n",
        "    if(freq > 977 and freq < 1100):\n",
        "        return \"C6\"\n",
        "    if(freq >= 1100 and freq < 1244):\n",
        "        return \"D6\"\n",
        "    \n",
        "    if(freq >= 1244 and freq < 1355):\n",
        "        return \"E6\"\n",
        "\n",
        "    if(freq >= 1355 and freq < 1479):\n",
        "        return \"F6\"\n",
        "\n",
        "    if(freq >= 1479 and freq < 1661):\n",
        "        return \"G6\"\n",
        "\n",
        "    if(freq >= 1661 and freq < 1864):\n",
        "        return \"A6\"\n",
        "\n",
        "    if(freq >= 1864 and freq < 2030):\n",
        "        return \"B6\"\n",
        "\n",
        "    if(freq >= 2030 and freq < 2217.46):\n",
        "        return \"C7\"\n",
        "        \n",
        "    if(freq >= 2217.46 and freq < 2489.02):\n",
        "        return \"D7\"\n",
        "\n",
        "    if(freq >= 2489.02 and freq < 2700):\n",
        "        return \"E7\"\n",
        "\n",
        "    if(freq >= 2700 and freq < 2959.96):\n",
        "        return \"F7\"\n",
        "\n",
        "    if(freq >= 2959.96 and freq < 3322.44):\n",
        "        return \"G7\"\n",
        "\n",
        "    if(freq >= 3322.44 and freq < 3729.31):\n",
        "        return \"A7\"\n",
        "\n",
        "    if(freq >= 3729.31 and freq < 4050):\n",
        "        return \"B7\"\n",
        "\n",
        "    if(freq >= 4050 and freq < 4434.92):\n",
        "        return \"C8\"\n",
        "\n",
        "    if(freq >= 4434.92 and freq < 4978.03):\n",
        "        return \"D8\"\n",
        "\n",
        "    if(freq >= 4978.03 and freq < 5370):\n",
        "        return \"E8\"\n",
        "\n",
        "    if(freq >= 5370 and freq < 5919.91):\n",
        "        return \"F8\"\n",
        "\n",
        "    if(freq >= 5919.91 and freq < 6644.88):\n",
        "        return \"G8\"\n",
        "\n",
        "    if(freq >= 6644.88 and freq < 7458.62):\n",
        "        return \"A8\"\n",
        "\n",
        "    if(freq >= 7458.62 and freq <  8000):\n",
        "        return \"B8\"\n",
        "\n",
        "\n",
        "def play(sound_file):    \n",
        "    file_length = sound_file.getnframes()\n",
        "    sound = np.zeros(file_length)\n",
        "    \n",
        "    for i in range(file_length):\n",
        "        data = sound_file.readframes(1)\n",
        "        data = struct.unpack(\"<h\", data)\n",
        "        sound[i] = int(data[0])\n",
        "\n",
        "    sound = np.divide(sound, float(2**15)) \n",
        "    Identified_Notes  = []                      #return value\n",
        "    threshold = 0                               #assuming no noise\n",
        "    flag = 0                                    #0 for continued silence, 1 for note to silence\n",
        "    Indices = []                                #all indices of sound, for one note\n",
        "    frame_length = int(sampling_freq * 0.02)\n",
        "    \n",
        "    for i in range(0, file_length-frame_length, frame_length):\n",
        "        temp = max(sound[i: i + frame_length])\n",
        "\n",
        "        if temp > threshold:                        #continued note\n",
        "            for k in range(frame_length):\n",
        "                Indices.append(i + k)       #append indexes in current frame\n",
        "            flag = 1\n",
        "            \n",
        "        elif ((flag == 1) or (flag == 1 and i == file_length - frame_length - 1)):     #found beginning of silence\n",
        "            flag = 0\n",
        "            Note = np.take(sound, Indices)                   #take all values of sound at indexes, in Indices\n",
        "            dftNote = np.fft.fft(Note)                       #fft\n",
        "            Imax = dftNote.argsort()[::-1][:2]               #to sort in descending order and take 0th and 1st ele because two peaks\n",
        "            x = min(Imax[0], Imax[1])\n",
        "            freq = ((x * sampling_freq) / len(Indices))\n",
        "            Indices = []                                     #empty indices for next note\n",
        "            Identified_Notes.append(freqToNote(freq))\n",
        "    return Identified_Notes\n",
        "\n",
        "\n",
        "#-----------------Main--------------\n",
        "sound_file = wave.open('/content/drive/MyDrive/Colab Notebooks/NoteRecognition/Audio.wav')\n",
        "Identified_Notes = play(sound_file)\n",
        "print(Identified_Notes)"
      ]
    }
  ]
}